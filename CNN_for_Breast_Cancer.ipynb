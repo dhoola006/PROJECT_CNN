{
  "cells": [
    {
      "cell_type": "markdown",
      "metadata": {
        "id": "view-in-github",
        "colab_type": "text"
      },
      "source": [
        "<a href=\"https://colab.research.google.com/github/aravind2608/aravind/blob/master/CNN_for_Breast_Cancer.ipynb\" target=\"_parent\"><img src=\"https://colab.research.google.com/assets/colab-badge.svg\" alt=\"Open In Colab\"/></a>"
      ]
    },
    {
      "cell_type": "code",
      "execution_count": 1,
      "metadata": {
        "id": "9U9Ei4N2KciB"
      },
      "outputs": [],
      "source": [
        "import tensorflow as tf\n",
        "from tensorflow import keras\n",
        "from keras.layers import Conv2D, Flatten, Dense, MaxPooling2D, Activation, Dropout\n",
        "from keras.models import Sequential\n",
        "import matplotlib.pyplot as plt\n",
        "from tensorflow.keras.callbacks import ModelCheckpoint\n",
        "import os\n",
        "import cv2"
      ]
    },
    {
      "cell_type": "code",
      "source": [
        "from google.colab import drive\n",
        "drive.mount('/content/drive')"
      ],
      "metadata": {
        "colab": {
          "base_uri": "https://localhost:8080/"
        },
        "id": "CV03SmsdlwIj",
        "outputId": "f9618f43-3cf1-42cb-d32f-2d06799c60bb"
      },
      "execution_count": null,
      "outputs": [
        {
          "output_type": "stream",
          "name": "stdout",
          "text": [
            "Drive already mounted at /content/drive; to attempt to forcibly remount, call drive.mount(\"/content/drive\", force_remount=True).\n"
          ]
        }
      ]
    },
    {
      "cell_type": "code",
      "execution_count": 5,
      "metadata": {
        "id": "qzmVtbl6Ks-F"
      },
      "outputs": [],
      "source": [
        "DATADIR=('/content/drive/MyDrive/Dataset_BUSI_with_GT/Train')\n",
        "#test=('F:\\\\Dataset\\\\train')\n",
        "CATEGORIES=[\"benign\",\"malignant\",\"normal\"]"
      ]
    },
    {
      "cell_type": "code",
      "execution_count": 6,
      "metadata": {
        "id": "DpbF9K3YKs6o"
      },
      "outputs": [],
      "source": [
        "training_data=[]\n",
        "\n",
        "for category in CATEGORIES:\n",
        "  path=os.path.join(DATADIR, category)\n",
        "  class_num=CATEGORIES.index(category)\n",
        "  for img in os.listdir(path):\n",
        "    img_array=cv2.imread(os.path.join(path, img),cv2.IMREAD_COLOR)\n",
        "    new_array=cv2.resize(img_array,(150,150))\n",
        "    training_data.append([new_array, class_num])\n",
        "    #Y.append([class_num])\n"
      ]
    },
    {
      "cell_type": "code",
      "execution_count": 7,
      "metadata": {
        "id": "FLgWgLKRKs3p"
      },
      "outputs": [],
      "source": [
        "import random\n",
        "import numpy as np\n",
        "random.shuffle(training_data)\n",
        "X=[]\n",
        "Y=[]\n",
        "for features, labels in training_data:\n",
        "  X.append(features)\n",
        "  Y.append(labels)\n",
        "X=np.array([X]).reshape(-1, 150,150, 3)\n",
        "Y=np.array([Y]).reshape(1578)\n"
      ]
    },
    {
      "cell_type": "code",
      "execution_count": 8,
      "metadata": {
        "id": "QfJoqw35Ks1H"
      },
      "outputs": [],
      "source": [
        "from sklearn.model_selection import train_test_split\n",
        "X_train,X_val,y_train,y_val=train_test_split(X,Y,test_size=0.20,stratify = Y, random_state=24)"
      ]
    },
    {
      "cell_type": "code",
      "execution_count": 9,
      "metadata": {
        "id": "NbetO85RKsyN"
      },
      "outputs": [],
      "source": [
        "X_train=X_train/255\n",
        "X_val=X_val/255"
      ]
    },
    {
      "cell_type": "code",
      "execution_count": 11,
      "metadata": {
        "id": "vZx8cwXHKsvY"
      },
      "outputs": [],
      "source": [
        "model = Sequential([\n",
        "    Conv2D(100, (3,3), activation='relu', input_shape=(150,150,3)),\n",
        "    MaxPooling2D(2,2),\n",
        "    \n",
        "    Conv2D(100, (3,3), activation='relu'),\n",
        "    MaxPooling2D(2,2),\n",
        "    \n",
        "    Conv2D(100, (3,3), activation='relu'),\n",
        "    MaxPooling2D(2,2),\n",
        "\n",
        "    Conv2D(100, (3,3), activation='relu'),\n",
        "    MaxPooling2D(2,2),\n",
        "\n",
        "    Flatten(),\n",
        "    Dropout(0.5),\n",
        "    Dense(64, activation='relu'),\n",
        "    Dense(3, activation='softmax')\n",
        "])"
      ]
    },
    {
      "cell_type": "code",
      "execution_count": 47,
      "metadata": {
        "id": "xp4jFPZ-Ksp8",
        "colab": {
          "base_uri": "https://localhost:8080/"
        },
        "outputId": "b5b6716d-6acf-4312-fcad-6bf195572717"
      },
      "outputs": [
        {
          "output_type": "stream",
          "name": "stdout",
          "text": [
            "Model: \"sequential_1\"\n",
            "_________________________________________________________________\n",
            " Layer (type)                Output Shape              Param #   \n",
            "=================================================================\n",
            " conv2d_3 (Conv2D)           (None, 148, 148, 100)     2800      \n",
            "                                                                 \n",
            " max_pooling2d_3 (MaxPooling  (None, 74, 74, 100)      0         \n",
            " 2D)                                                             \n",
            "                                                                 \n",
            " conv2d_4 (Conv2D)           (None, 72, 72, 100)       90100     \n",
            "                                                                 \n",
            " max_pooling2d_4 (MaxPooling  (None, 36, 36, 100)      0         \n",
            " 2D)                                                             \n",
            "                                                                 \n",
            " conv2d_5 (Conv2D)           (None, 34, 34, 100)       90100     \n",
            "                                                                 \n",
            " max_pooling2d_5 (MaxPooling  (None, 17, 17, 100)      0         \n",
            " 2D)                                                             \n",
            "                                                                 \n",
            " conv2d_6 (Conv2D)           (None, 15, 15, 100)       90100     \n",
            "                                                                 \n",
            " max_pooling2d_6 (MaxPooling  (None, 7, 7, 100)        0         \n",
            " 2D)                                                             \n",
            "                                                                 \n",
            " flatten_1 (Flatten)         (None, 4900)              0         \n",
            "                                                                 \n",
            " dropout_1 (Dropout)         (None, 4900)              0         \n",
            "                                                                 \n",
            " dense_2 (Dense)             (None, 64)                313664    \n",
            "                                                                 \n",
            " dense_3 (Dense)             (None, 3)                 195       \n",
            "                                                                 \n",
            "=================================================================\n",
            "Total params: 586,959\n",
            "Trainable params: 586,959\n",
            "Non-trainable params: 0\n",
            "_________________________________________________________________\n",
            "None\n"
          ]
        }
      ],
      "source": [
        "print(model.summary())"
      ]
    },
    {
      "cell_type": "code",
      "execution_count": 16,
      "metadata": {
        "id": "Zr_o9GseLAN5"
      },
      "outputs": [],
      "source": [
        "model.compile(optimizer='adam',loss = tf.keras.losses.SparseCategoricalCrossentropy(from_logits=True), metrics=['accuracy'])"
      ]
    },
    {
      "cell_type": "code",
      "execution_count": 48,
      "metadata": {
        "colab": {
          "base_uri": "https://localhost:8080/"
        },
        "id": "OH3yQSvsLAKX",
        "outputId": "37d16974-e390-435b-94a1-7c566bb8e526"
      },
      "outputs": [
        {
          "output_type": "stream",
          "name": "stdout",
          "text": [
            "Epoch 1/10\n",
            "64/64 [==============================] - 157s 2s/step - loss: 0.2989 - accuracy: 0.8756 - val_loss: 0.5669 - val_accuracy: 0.7975\n",
            "Epoch 2/10\n",
            "64/64 [==============================] - 154s 2s/step - loss: 0.2388 - accuracy: 0.9065 - val_loss: 0.5665 - val_accuracy: 0.7690\n",
            "Epoch 3/10\n",
            "64/64 [==============================] - 154s 2s/step - loss: 0.2265 - accuracy: 0.9097 - val_loss: 0.5377 - val_accuracy: 0.8323\n",
            "Epoch 4/10\n",
            "64/64 [==============================] - 154s 2s/step - loss: 0.1693 - accuracy: 0.9287 - val_loss: 0.6160 - val_accuracy: 0.8259\n",
            "Epoch 5/10\n",
            "64/64 [==============================] - 154s 2s/step - loss: 0.1869 - accuracy: 0.9319 - val_loss: 0.7294 - val_accuracy: 0.8165\n",
            "Epoch 6/10\n",
            "64/64 [==============================] - 154s 2s/step - loss: 0.1864 - accuracy: 0.9311 - val_loss: 0.7273 - val_accuracy: 0.8101\n",
            "Epoch 7/10\n",
            "64/64 [==============================] - 157s 2s/step - loss: 0.1219 - accuracy: 0.9509 - val_loss: 0.7650 - val_accuracy: 0.7880\n",
            "Epoch 8/10\n",
            "64/64 [==============================] - 154s 2s/step - loss: 0.1195 - accuracy: 0.9564 - val_loss: 0.7829 - val_accuracy: 0.8133\n",
            "Epoch 9/10\n",
            "64/64 [==============================] - 153s 2s/step - loss: 0.1090 - accuracy: 0.9604 - val_loss: 0.8249 - val_accuracy: 0.8101\n",
            "Epoch 10/10\n",
            "64/64 [==============================] - 154s 2s/step - loss: 0.1255 - accuracy: 0.9564 - val_loss: 0.6992 - val_accuracy: 0.8228\n"
          ]
        }
      ],
      "source": [
        "history = model.fit(X_train, y_train, batch_size = 20, epochs = 10,validation_data = (X_val, y_val))"
      ]
    },
    {
      "cell_type": "code",
      "execution_count": 49,
      "metadata": {
        "id": "PoGZVPspKssj",
        "colab": {
          "base_uri": "https://localhost:8080/",
          "height": 295
        },
        "outputId": "b10f1556-ea83-4dce-e536-b21c08592e4e"
      },
      "outputs": [
        {
          "output_type": "display_data",
          "data": {
            "text/plain": [
              "<Figure size 432x288 with 1 Axes>"
            ],
            "image/png": "[encoded data removed]"
          },
          "metadata": {
            "needs_background": "light"
          }
        }
      ],
      "source": [
        "from matplotlib import pyplot as plt\n",
        "plt.plot(history.history['accuracy'])\n",
        "plt.plot(history.history['val_accuracy'])\n",
        "plt.title('Model Accuracy for next 10 epochs')\n",
        "plt.ylabel('accuracy')\n",
        "plt.xlabel('epoch')\n",
        "plt.legend(['train', 'val'], loc='upper left')\n",
        "plt.show()"
      ]
    },
    {
      "cell_type": "code",
      "source": [
        "plt.plot(history.history['loss'])\n",
        "plt.plot(history.history['val_loss'])\n",
        "plt.title('Model Loss for next 10 epochs')\n",
        "plt.ylabel('loss')\n",
        "plt.xlabel('epoch')\n",
        "plt.legend(['train', 'test'], loc='upper left')\n",
        "plt.show()"
      ],
      "metadata": {
        "colab": {
          "base_uri": "https://localhost:8080/",
          "height": 295
        },
        "id": "OtrjAZpgye2h",
        "outputId": "a4994438-e462-47f0-a296-441bed6ae18f"
      },
      "execution_count": 50,
      "outputs": [
        {
          "output_type": "display_data",
          "data": {
            "text/plain": [
              "<Figure size 432x288 with 1 Axes>"
            ],
            "image/png": "[encoded data removed]"
          },
          "metadata": {
            "needs_background": "light"
          }
        }
      ]
    },
    {
      "cell_type": "code",
      "source": [
        "print(history.history)"
      ],
      "metadata": {
        "colab": {
          "base_uri": "https://localhost:8080/"
        },
        "id": "5oeh3yv-yypS",
        "outputId": "ac64d9b6-ea0e-40a9-f88f-cc0b81ec653e"
      },
      "execution_count": 51,
      "outputs": [
        {
          "output_type": "stream",
          "name": "stdout",
          "text": [
            "{'loss': [0.2988739609718323, 0.23876048624515533, 0.226454496383667, 0.16934950649738312, 0.18692633509635925, 0.1863510012626648, 0.1219210997223854, 0.11950425803661346, 0.10899556428194046, 0.12548823654651642], 'accuracy': [0.8755943179130554, 0.906497597694397, 0.9096671938896179, 0.928684651851654, 0.9318541884422302, 0.9310618042945862, 0.9508716464042664, 0.9564183950424194, 0.9603803753852844, 0.9564183950424194], 'val_loss': [0.5668864250183105, 0.5664752721786499, 0.5377089381217957, 0.6160048246383667, 0.7294250726699829, 0.7272650003433228, 0.7650282382965088, 0.7828948497772217, 0.8248814344406128, 0.6991597414016724], 'val_accuracy': [0.797468364238739, 0.7689873576164246, 0.8322784900665283, 0.8259493708610535, 0.8164557218551636, 0.8101266026496887, 0.7879746556282043, 0.8132911324501038, 0.8101266026496887, 0.8227847814559937]}\n"
          ]
        }
      ]
    },
    {
      "cell_type": "code",
      "source": [
        "model.evaluate(X_val, y_val)"
      ],
      "metadata": {
        "colab": {
          "base_uri": "https://localhost:8080/"
        },
        "id": "Z-HF6zrJXcZu",
        "outputId": "8be237b9-fb7e-43ab-cb5b-32ab14c1a032"
      },
      "execution_count": 52,
      "outputs": [
        {
          "output_type": "stream",
          "name": "stdout",
          "text": [
            "10/10 [==============================] - 10s 1s/step - loss: 0.6992 - accuracy: 0.8228\n"
          ]
        },
        {
          "output_type": "execute_result",
          "data": {
            "text/plain": [
              "[0.6991598606109619, 0.8227847814559937]"
            ]
          },
          "metadata": {},
          "execution_count": 52
        }
      ]
    },
    {
      "cell_type": "code",
      "source": [
        "model.save(\"/content/drive/MyDrive/UV_acc.h5\")"
      ],
      "metadata": {
        "id": "gY0-GrNGgdQF"
      },
      "execution_count": 53,
      "outputs": []
    }
  ],
  "metadata": {
    "colab": {
      "name": "CNN_for_Breast_Cancer.ipynb",
      "provenance": [],
      "mount_file_id": "1xJD1GURYdt0Wr75ztbiBghAvY7fJ3QBF",
      "authorship_tag": "ABX9TyM3x5NbjlaiaPQvZVNqq/Vx",
      "include_colab_link": true
    },
    "kernelspec": {
      "display_name": "Python 3",
      "name": "python3"
    },
    "language_info": {
      "name": "python"
    }
  },
  "nbformat": 4,
  "nbformat_minor": 0
}